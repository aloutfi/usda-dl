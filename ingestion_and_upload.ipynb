{
 "cells": [
  {
   "cell_type": "markdown",
   "id": "vertical-candle",
   "metadata": {},
   "source": [
    "# Purpose: JSONification and upload of final pomology data to elastic instance"
   ]
  },
  {
   "cell_type": "markdown",
   "id": "engaging-disease",
   "metadata": {},
   "source": [
    "## Written by Sujit Bhattarai. Transcribed by Andrew Loutfi"
   ]
  },
  {
   "cell_type": "markdown",
   "id": "biological-instrument",
   "metadata": {},
   "source": [
    "## Filepaths and credentials have been left blank. In an production setting, these would be environment variables or dynamically created."
   ]
  },
  {
   "cell_type": "code",
   "execution_count": null,
   "id": "occupied-amsterdam",
   "metadata": {},
   "outputs": [],
   "source": [
    "import sys\n",
    "import json\n",
    "import requests"
   ]
  },
  {
   "cell_type": "code",
   "execution_count": null,
   "id": "tropical-sight",
   "metadata": {},
   "outputs": [],
   "source": [
    "pomology_csv = '' \n",
    "pomology_json = ''\n",
    "\n",
    "output = []\n",
    "with open(pomology_csv, newline='') as f:\n",
    "    reader = csv.DictReader(f)\n",
    "    for records in reader:\n",
    "        output.append(records)\n",
    "with open(pomology_json,'w') as outfile:\n",
    "    json.dump(output, outfile, sort_keys=True)"
   ]
  },
  {
   "cell_type": "code",
   "execution_count": null,
   "id": "interior-layer",
   "metadata": {},
   "outputs": [],
   "source": [
    "elastic_host = ''\n",
    "elastic_user = ''\n",
    "elastic_pass = ''\n",
    "\n",
    "json_infile_path = ''\n",
    "json_outfile_path = ''\n",
    "\n",
    "\n",
    "elastic_url = f'{elastic_host}/pomology/_doc'\n",
    "output = []\n",
    "with open(json_infile_path, 'r') as infile:\n",
    "    indata = json.load(infile)\n",
    "    \n",
    "for data in indata:\n",
    "    r = requests.post(elastic_url, auth=(elastic_user, elastic_pass), json=data)\n",
    "    output.append(json.loads(r.text))\n",
    "    \n",
    "with open(json_outfile_path, 'w') as outfile:\n",
    "    json.dump(output, outfile, indent=4)"
   ]
  }
 ],
 "metadata": {
  "kernelspec": {
   "display_name": "POMKernel2",
   "language": "python",
   "name": "pomkernel2"
  },
  "language_info": {
   "codemirror_mode": {
    "name": "ipython",
    "version": 3
   },
   "file_extension": ".py",
   "mimetype": "text/x-python",
   "name": "python",
   "nbconvert_exporter": "python",
   "pygments_lexer": "ipython3",
   "version": "3.8.8"
  }
 },
 "nbformat": 4,
 "nbformat_minor": 5
}
