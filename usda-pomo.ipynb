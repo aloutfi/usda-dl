{
 "cells": [
  {
   "cell_type": "code",
   "execution_count": 1,
   "metadata": {},
   "outputs": [],
   "source": [
    "# Based on https://github.com/aydwi/usda-dl\n",
    "\n",
    "import aiofiles\n",
    "import aiohttp\n",
    "import asyncio\n",
    "import pandas as pd\n",
    "\n",
    "import nest_asyncio # Needed to run on ipykernel: https://medium.com/@vyshali.enukonda/how-to-get-around-runtimeerror-this-event-loop-is-already-running-3f26f67e762e\n",
    "nest_asyncio.apply()\n",
    "\n",
    "\n",
    "from bs4 import BeautifulSoup\n",
    "\n",
    "BASE_URL = \"https://usdawatercolors.nal.usda.gov\"\n",
    "INIT_URL = (\n",
    "    BASE_URL + \"\"\"/pom/search.xhtml?start={}&searchText=&searchField=&sortField=\"\"\"\n",
    ")\n",
    "\n",
    "MAX_IMAGES = 20 # TODO: Change to 7600 when ran for real."
   ]
  },
  {
   "cell_type": "code",
   "execution_count": 2,
   "metadata": {},
   "outputs": [],
   "source": [
    "def chunks(dl_links, n):\n",
    "    for i in range(0, len(dl_links), n):\n",
    "        yield dl_links[i : i + n]\n",
    "\n",
    "\n",
    "def get_fruit_segment(page):\n",
    "    soup = BeautifulSoup(page, \"html.parser\")\n",
    "    for link in soup.find_all(\"a\"):\n",
    "        if link.get(\"href\").startswith(\"/pom/catalog.xhtml?id=\"):\n",
    "            if not link.get(\"href\") in fruits:\n",
    "                fruits.append(link.get(\"href\"))\n",
    "\n",
    "\n",
    "async def collection_helper(session, url):\n",
    "    async with session.get(url) as response:\n",
    "        return await response.text()\n",
    "\n",
    "\n",
    "async def collect_fruits(page_segment):\n",
    "    async with aiohttp.ClientSession() as session:\n",
    "        page = await collection_helper(session, INIT_URL.format(page_segment))\n",
    "        try:\n",
    "            get_fruit_segment(page)\n",
    "            print(f\"Collected fruit links from page segment starting at: start={page_segment}\")\n",
    "        except Exception as e:\n",
    "            print(e)\n",
    "\n",
    "\n",
    "async def download_fruit_image(image_url):\n",
    "    file_name = image_url.split(\"=\")[1]\n",
    "    async with aiohttp.ClientSession() as session:\n",
    "        async with session.get(image_url) as response:\n",
    "            if response.status == 200:\n",
    "                f = await aiofiles.open(\"{}.jpg\".format(file_name), mode=\"wb+\")\n",
    "                await f.write(await response.read())\n",
    "                print(f\"Downloaded image {file_name}.jpg\")\n",
    "                await f.close()\n",
    "                \n"
   ]
  },
  {
   "cell_type": "code",
   "execution_count": 4,
   "metadata": {},
   "outputs": [
    {
     "name": "stdout",
     "output_type": "stream",
     "text": [
      "\n",
      "\n",
      "---Starting link collection---\n",
      "\n",
      "Collected fruit links from page segment starting at: start=0\n",
      "\n",
      "\n",
      "---Finished link collection---\n",
      "\n",
      "Found 20 total fruits\n",
      "\n",
      "\n",
      "---Starting image download, be patient---\n",
      "\n"
     ]
    }
   ],
   "source": [
    "fruits = []\n",
    "dl_links = []\n",
    "\n",
    "loop = asyncio.get_event_loop()\n",
    "page_segments = [i for i in range(0, MAX_IMAGES, 20)]\n",
    "\n",
    "print(\"\\n\\n---Starting link collection---\\n\")\n",
    "\n",
    "loop.run_until_complete(\n",
    "    asyncio.gather(*[collect_fruits(args) for args in page_segments])\n",
    ")\n",
    "\n",
    "print(\"\\n\\n---Finished link collection---\\n\")\n",
    "print(f\"Found {len(fruits)} total fruits\")\n",
    "\n",
    "# Write the list 'fruits' to a file at this point if you'd like.\n",
    "for fruit in fruits:\n",
    "    dl_link = BASE_URL + fruit.split(\"&\")[0]\n",
    "    dl_link = dl_link.replace(\"catalog\", \"download\")\n",
    "    dl_links.append(dl_link)\n",
    "\n",
    "# Download in asynchronous bursts of 100 images, for sanity. Tweak CHUNK_SIZE if you'd like, best performance at 7584.\n",
    "CHUNK_SIZE = 100\n",
    "\n",
    "dl_links_chunked = list(chunks(dl_links, CHUNK_SIZE))\n",
    "\n",
    "print(\"\\n\\n---Starting image download, be patient---\\n\")\n",
    "\n",
    "columns = ['pomid', 'artist', 'scientific name', 'common name', 'geographic origin', \n",
    "           'physical description', 'specimen', 'year', 'notes on original', 'date created'] # Rights column is the same accross entire dataset.\n",
    "df = pd.DataFrame(columns=columns)\n",
    "\n",
    "\n",
    "\"\"\"\n",
    "TODO: Modify script to create dataframe to save image metadata with correct columns. End result will spit out a CSV.\n",
    "\n",
    "For each ID:\n",
    "    Grab Image\n",
    "    Grab Metadata, add into dataframe\n",
    "\n",
    "\"\"\"\n",
    "\n",
    "\n",
    "\n",
    "for burst in dl_links_chunked:\n",
    "    # Add a little delay here to be gentler on the server.\n",
    "    loop.run_until_complete(\n",
    "        asyncio.gather(*[download_fruit_image(args) for args in burst]) # TODO: Switch to pass ID to hit text as well.\n",
    "    )"
   ]
  },
  {
   "cell_type": "code",
   "execution_count": 5,
   "metadata": {},
   "outputs": [
    {
     "data": {
      "text/html": [
       "<div>\n",
       "<style scoped>\n",
       "    .dataframe tbody tr th:only-of-type {\n",
       "        vertical-align: middle;\n",
       "    }\n",
       "\n",
       "    .dataframe tbody tr th {\n",
       "        vertical-align: top;\n",
       "    }\n",
       "\n",
       "    .dataframe thead th {\n",
       "        text-align: right;\n",
       "    }\n",
       "</style>\n",
       "<table border=\"1\" class=\"dataframe\">\n",
       "  <thead>\n",
       "    <tr style=\"text-align: right;\">\n",
       "      <th></th>\n",
       "      <th>pomid</th>\n",
       "      <th>artist</th>\n",
       "      <th>scientific name</th>\n",
       "      <th>common name</th>\n",
       "      <th>geographic origin</th>\n",
       "      <th>physical description</th>\n",
       "      <th>specimen</th>\n",
       "      <th>year</th>\n",
       "      <th>notes on original</th>\n",
       "      <th>date created</th>\n",
       "    </tr>\n",
       "  </thead>\n",
       "  <tbody>\n",
       "  </tbody>\n",
       "</table>\n",
       "</div>"
      ],
      "text/plain": [
       "Empty DataFrame\n",
       "Columns: [pomid, artist, scientific name, common name, geographic origin, physical description, specimen, year, notes on original, date created]\n",
       "Index: []"
      ]
     },
     "execution_count": 5,
     "metadata": {},
     "output_type": "execute_result"
    }
   ],
   "source": [
    "df"
   ]
  },
  {
   "cell_type": "code",
   "execution_count": null,
   "metadata": {},
   "outputs": [],
   "source": [
    "df.to_csv('usda_pomological.csv')"
   ]
  }
 ],
 "metadata": {
  "kernelspec": {
   "display_name": "POMKernel",
   "language": "python",
   "name": "pomkernel"
  },
  "language_info": {
   "codemirror_mode": {
    "name": "ipython",
    "version": 3
   },
   "file_extension": ".py",
   "mimetype": "text/x-python",
   "name": "python",
   "nbconvert_exporter": "python",
   "pygments_lexer": "ipython3",
   "version": "3.8.7"
  }
 },
 "nbformat": 4,
 "nbformat_minor": 4
}
